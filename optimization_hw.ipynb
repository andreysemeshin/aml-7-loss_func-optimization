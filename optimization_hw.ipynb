{
 "cells": [
  {
   "cell_type": "markdown",
   "metadata": {},
   "source": [
    "# Домашнее задание\n",
    "* Прочитать про методы оптимизации для нейронных сетей https://habr.com/post/318970/\n",
    "* Взять код градиентного спуска для линейной регрессии (с занятия) и обучить ее\n",
    "    * Методом nesterov momentum\n",
    "    * Методом rmsprop"
   ]
  },
  {
   "cell_type": "markdown",
   "metadata": {},
   "source": [
    "# Литература\n",
    "* https://heartbeat.fritz.ai/5-regression-loss-functions-all-machine-learners-should-know-4fb140e9d4b0\n",
    "* https://habr.com/post/413853/\n",
    "* https://docs.scipy.org/doc/scipy/reference/tutorial/optimize.html"
   ]
  },
  {
   "cell_type": "code",
   "execution_count": 1,
   "metadata": {},
   "outputs": [],
   "source": [
    "import numpy as np\n",
    "import matplotlib.pyplot as plt\n",
    "%matplotlib inline"
   ]
  },
  {
   "cell_type": "code",
   "execution_count": 6,
   "metadata": {},
   "outputs": [
    {
     "data": {
      "image/png": "[encoded data removed]",
      "text/plain": [
       "<Figure size 432x288 with 1 Axes>"
      ]
     },
     "metadata": {
      "needs_background": "light"
     },
     "output_type": "display_data"
    }
   ],
   "source": [
    "N = 100\n",
    "X = np.random.uniform(low=0, high=100, size=N)\n",
    "Y = 2*X + 1 + np.random.normal(scale=5, size=N)\n",
    "\n",
    "plt.scatter(X, Y)\n",
    "plt.show()"
   ]
  },
  {
   "cell_type": "code",
   "execution_count": 12,
   "metadata": {},
   "outputs": [],
   "source": [
    "# пример с занятия\n",
    "EPOCHS = 20\n",
    "LEARNING_RATE = 0.0001"
   ]
  },
  {
   "cell_type": "code",
   "execution_count": 8,
   "metadata": {},
   "outputs": [],
   "source": [
    "def cost_function(X, y, theta0, theta1):\n",
    "    total_cost = 0\n",
    "    for i in range(len(X)):\n",
    "        total_cost += (theta0 + theta1*X[i] - y[i]) ** 2\n",
    "    return total_cost / (2 * len(X))"
   ]
  },
  {
   "cell_type": "code",
   "execution_count": 9,
   "metadata": {},
   "outputs": [],
   "source": [
    "def der_theta0(X, y, theta0, theta1):\n",
    "    total_cost = 0\n",
    "    for i in range(len(X)):\n",
    "        total_cost += (theta0 + theta1*X[i] - y[i])\n",
    "    return total_cost / (len(X))    "
   ]
  },
  {
   "cell_type": "code",
   "execution_count": 10,
   "metadata": {},
   "outputs": [],
   "source": [
    "def der_theta1(X, y, theta0, theta1):\n",
    "    total_cost = 0\n",
    "    for i in range(len(X)):\n",
    "        total_cost += (theta0 + theta1*X[i] - y[i]) * X[i]\n",
    "    return total_cost / (len(X))  "
   ]
  },
  {
   "cell_type": "code",
   "execution_count": 11,
   "metadata": {},
   "outputs": [
    {
     "name": "stdout",
     "output_type": "stream",
     "text": [
      "t0: 1.005001790549822 t1: 1.3430281567928044 cost: 746.4900055239954\n",
      "t0: 1.0082899362499054 t1: 1.5679809491368308 cost: 327.45563032688574\n",
      "t0: 1.0104542981952682 t1: 1.7155016234555882 cost: 147.24792891280356\n",
      "t0: 1.0118816987695958 t1: 1.8122434335316726 cost: 69.74875864290479\n",
      "t0: 1.012825810503226 t1: 1.8756851981040457 cost: 36.419873888947734\n",
      "t0: 1.013452988176448 t1: 1.9172892739641687 cost: 22.086627577438747\n",
      "t0: 1.0138723248506536 t1: 1.9445725090854054 cost: 15.922544666748161\n",
      "t0: 1.0141553621793105 t1: 1.96246434376373 cost: 13.271648789666104\n",
      "t0: 1.0143490161451207 t1: 1.97419743372368 cost: 12.131615473207539\n",
      "t0: 1.0144840535716946 t1: 1.981891707883336 cost: 11.641335686976563\n",
      "t0: 1.0145806508974364 t1: 1.9869373849980083 cost: 11.430485453898575\n",
      "t0: 1.0146520395391445 t1: 1.9902461504412639 cost: 11.339805210834129\n",
      "t0: 1.014706896468791 t1: 1.9924158743088711 cost: 11.300804635736734\n",
      "t0: 1.014750911919235 t1: 1.9938386311714857 cost: 11.28402914439451\n",
      "t0: 1.0147878174629776 t1: 1.9947715378677697 cost: 11.276811654726819\n",
      "t0: 1.0148200602113566 t1: 1.995383207905641 cost: 11.273704628676969\n",
      "t0: 1.0148492449446371 t1: 1.9957842155874295 cost: 11.272365326955018\n",
      "t0: 1.0148764240545372 t1: 1.9960470739430027 cost: 11.27178624354201\n",
      "t0: 1.0149022876843459 t1: 1.9962193359696652 cost: 11.27153409574931\n",
      "t0: 1.0149272884200673 t1: 1.9963321862359928 cost: 11.271422548324649\n"
     ]
    }
   ],
   "source": [
    "theta0 = 1\n",
    "theta1 = 1\n",
    "for _ in range(EPOCHS):\n",
    "    dt0 = der_theta0(X, Y, theta0, theta1)\n",
    "    dt1 = der_theta1(X, Y, theta0, theta1)\n",
    "    \n",
    "    theta0 = theta0 - LEARNING_RATE * dt0\n",
    "    theta1 -= LEARNING_RATE * dt1\n",
    "    \n",
    "    print(\"t0:\", theta0, \"t1:\", theta1, \"cost:\", cost_function(X, Y, theta0, theta1))"
   ]
  },
  {
   "cell_type": "markdown",
   "metadata": {},
   "source": [
    "Метод nesterov momentum"
   ]
  },
  {
   "cell_type": "code",
   "execution_count": null,
   "metadata": {},
   "outputs": [],
   "source": [
    "epochs = 20\n",
    "gamma = 0.8\n",
    "theta0_nest, theta1_nest = 1, 1\n",
    "LEARNING_RATE = 0.0007\n",
    "moving_average = (1-gamma) * LEARNING_RATE\n",
    "x0, x1 = 0, 0"
   ]
  },
  {
   "cell_type": "code",
   "execution_count": 28,
   "metadata": {},
   "outputs": [
    {
     "name": "stdout",
     "output_type": "stream",
     "text": [
      "t0: 1.0070025067697508, t1: 1.480239419509926, cost: 470.17304890467045\n",
      "t0: 1.0135612799254243, t1: 1.9281004888525044, cost: 19.337703408012526\n",
      "t0: 1.0168139265173706, t1: 2.1467164760443604, cost: 50.088616341680535\n",
      "t0: 1.017175334250963, t1: 2.1649632339774834, cost: 60.09605383050952\n",
      "t0: 1.0162172072657225, t1: 2.091367104412757, cost: 26.747834501675733\n",
      "t0: 1.0152320293645105, t1: 2.0151690992219407, cost: 11.86827468077133\n",
      "t0: 1.0147726705027882, t1: 1.9746116013445456, cost: 12.099480203411076\n",
      "t0: 1.0148181898072113, t1: 1.9683700902551948, cost: 12.637649010602065\n",
      "t0: 1.015119242579714, t1: 1.9793586588346355, cost: 11.77949208965989\n",
      "t0: 1.0154514447493481, t1: 1.9921923335341563, cost: 11.303735310879363\n",
      "t0: 1.015708464700264, t1: 1.9996051718477417, cost: 11.28737428499994\n",
      "t0: 1.0158838031901143, t1: 2.001197870048025, cost: 11.30856411596456\n",
      "t0: 1.0160152000524663, t1: 1.9996096360950897, cost: 11.28739702285652\n",
      "t0: 1.0161403273261704, t1: 1.9974672479556475, cost: 11.272573863877362\n",
      "t0: 1.016278501028653, t1: 1.9961264892370754, cost: 11.271304209050804\n",
      "t0: 1.016431981556639, t1: 1.9957629916249031, cost: 11.271991292180992\n",
      "t0: 1.0165947595723486, t1: 1.9959786023160728, cost: 11.271463437854194\n",
      "t0: 1.0167602049974542, t1: 1.9963292176352119, cost: 11.270978298417656\n",
      "t0: 1.0169245542920633, t1: 1.9965657028934722, cost: 11.27088109819572\n",
      "t0: 1.017086988710426, t1: 1.9966397930022315, cost: 11.270865873358058\n"
     ]
    }
   ],
   "source": [
    "for _ in range(epochs):\n",
    "    \n",
    "    x0_temp = gamma*x0\n",
    "    x1_temp = gamma*x1\n",
    "   \n",
    "    x0 = x0_temp + moving_average*der_theta0(X, Y, theta0_nest - x0_temp, theta1_nest - x1_temp)\n",
    "    x1 = x1_temp + moving_average*der_theta1(X, Y, theta0_nest - x0_temp, theta1_nest - x1_temp)\n",
    "\n",
    "    theta0_nest -= x0\n",
    "    theta1_nest -= x1\n",
    "        \n",
    "    print('t0: {}, t1: {}, cost: {}'.format(theta0_nest, theta1_nest, cost_function(X, Y, theta0_nest, theta1_nest)))    "
   ]
  },
  {
   "cell_type": "code",
   "execution_count": null,
   "metadata": {},
   "outputs": [],
   "source": []
  },
  {
   "cell_type": "markdown",
   "metadata": {},
   "source": [
    "Метод rmsprop"
   ]
  },
  {
   "cell_type": "code",
   "execution_count": 36,
   "metadata": {},
   "outputs": [],
   "source": [
    "theta0_rms, theta1_rms = 1, 1\n",
    "\n",
    "LEARNING_RATE = 0.6\n",
    "epochs = 20\n",
    "\n",
    "g0, g1 = 0, 0\n",
    "e = 0.00000001\n",
    "beta = 0.9"
   ]
  },
  {
   "cell_type": "code",
   "execution_count": 37,
   "metadata": {},
   "outputs": [
    {
     "name": "stdout",
     "output_type": "stream",
     "text": [
      "t0: 2.8973665960631076, t1: 2.89736659610102, cost: 1493.6065711248195\n",
      "t0: 1.8342829754581416, t1: 1.8352711069906749, cost: 49.5716258709673\n",
      "t0: 1.9575314883530284, t1: 1.9590243362256146, cost: 12.151652019970538\n",
      "t0: 1.9714778894107536, t1: 1.9733537858516423, cost: 11.32299139613858\n",
      "t0: 1.9752591730363878, t1: 1.9774136258366315, cost: 11.220381233906926\n",
      "t0: 1.9767010567592571, t1: 1.9790574417133069, cost: 11.195420809770958\n",
      "t0: 1.9773652551125835, t1: 1.9798679812797624, cost: 11.186629101052523\n",
      "t0: 1.9777106732138519, t1: 1.9803194686336847, cost: 11.182737883804423\n",
      "t0: 1.9779061879677386, t1: 1.980591878544932, cost: 11.180737855515947\n",
      "t0: 1.9780239428724913, t1: 1.9807653886265026, cost: 11.179600272911369\n",
      "t0: 1.9780982497935502, t1: 1.980880128211483, cost: 11.178906233926124\n",
      "t0: 1.9781468254891281, t1: 1.9809580280916688, cost: 11.178461433821829\n",
      "t0: 1.978179440892419, t1: 1.9810119128443606, cost: 11.178166244699682\n",
      "t0: 1.9782017857233118, t1: 1.9810496856202449, cost: 11.177965405139545\n",
      "t0: 1.9782173268512788, t1: 1.9810764180540439, cost: 11.177826297697926\n",
      "t0: 1.978228257888995, t1: 1.981095467431101, cost: 11.177728702693651\n",
      "t0: 1.9782360104506413, t1: 1.981109109292652, cost: 11.177659595180025\n",
      "t0: 1.9782415424662105, t1: 1.9811189136643663, cost: 11.177610331515108\n",
      "t0: 1.978245507699405, t1: 1.981125978289807, cost: 11.177575043437638\n",
      "t0: 1.9782483592325504, t1: 1.981131078305392, cost: 11.177549677606173\n"
     ]
    }
   ],
   "source": [
    "for _ in range(epochs):\n",
    "    \n",
    "    dt0 = der_theta0(X, Y, theta0_rms, theta1_rms)\n",
    "    dt1 = der_theta1(X, Y, theta0_rms, theta1_rms)\n",
    "    \n",
    "    g0 += beta*g0 +  (1-beta)*dt0**2\n",
    "    g1 += beta*g1 +  (1-beta)*dt1**2\n",
    "    \n",
    "    theta0_rms -= LEARNING_RATE * dt0 / np.sqrt(g0 + e)\n",
    "    theta1_rms -= LEARNING_RATE * dt1 / np.sqrt(g1 + e)\n",
    "    \n",
    "    print('t0: {}, t1: {}, cost: {}'.format(theta0_rms, theta1_rms, cost_function(X, Y, theta0_rms, theta1_rms)))   "
   ]
  },
  {
   "cell_type": "code",
   "execution_count": 30,
   "metadata": {},
   "outputs": [
    {
     "data": {
      "text/plain": [
       "True"
      ]
     },
     "execution_count": 30,
     "metadata": {},
     "output_type": "execute_result"
    }
   ],
   "source": []
  },
  {
   "cell_type": "code",
   "execution_count": null,
   "metadata": {},
   "outputs": [],
   "source": []
  },
  {
   "cell_type": "code",
   "execution_count": null,
   "metadata": {},
   "outputs": [],
   "source": []
  }
 ],
 "metadata": {
  "kernelspec": {
   "display_name": "Python 3",
   "language": "python",
   "name": "python3"
  },
  "language_info": {
   "codemirror_mode": {
    "name": "ipython",
    "version": 3
   },
   "file_extension": ".py",
   "mimetype": "text/x-python",
   "name": "python",
   "nbconvert_exporter": "python",
   "pygments_lexer": "ipython3",
   "version": "3.7.7"
  }
 },
 "nbformat": 4,
 "nbformat_minor": 4
}
